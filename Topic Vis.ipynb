{
 "cells": [
  {
   "cell_type": "code",
   "execution_count": 1,
   "metadata": {},
   "outputs": [],
   "source": [
    "from new_main import *"
   ]
  },
  {
   "cell_type": "code",
   "execution_count": 2,
   "metadata": {},
   "outputs": [],
   "source": [
    "algo = TopicModelingAlgorithm.NMF\n",
    "topic_qtt = 20\n",
    "\n",
    "data_lemmatized, id_info = prepare_dataset()\n",
    "mod = Gensim_Model(data_lemmatized)\n",
    "mod.set_model(algo, topic_qtt)"
   ]
  },
  {
   "cell_type": "code",
   "execution_count": 5,
   "metadata": {},
   "outputs": [
    {
     "name": "stdout",
     "output_type": "stream",
     "text": [
      "Topics for each endpoints modeled in a table\n"
     ]
    }
   ],
   "source": [
    "dataset = create_table_ids_topics(mod)\n",
    "d_most = dataset_topics_best_topic(dataset)\n",
    "endps_most = [filter_endpoints_by_topic(d_most, i) for i in range(topic_qtt)]\n",
    "new_datasets_most = [new_dataset_filtered_endpoint(data_lemmatized, endp) for endp in endps_most]\n",
    "\n",
    "mod_subs_most = [Gensim_Model(new_dataset) for new_dataset in new_datasets_most]"
   ]
  },
  {
   "cell_type": "code",
   "execution_count": 6,
   "metadata": {},
   "outputs": [],
   "source": [
    "d_oz = dataset_topics_over_zero(dataset)\n",
    "endps_oz = [filter_endpoints_by_topic(d_oz, i) for i in range(topic_qtt)]\n",
    "new_datasets_oz = [new_dataset_filtered_endpoint(data_lemmatized, endp) for endp in endps_oz]\n",
    "\n",
    "mod_subs_oz = [Gensim_Model(new_dataset) for new_dataset in new_datasets_oz]"
   ]
  },
  {
   "cell_type": "code",
   "execution_count": 12,
   "metadata": {},
   "outputs": [
    {
     "name": "stdout",
     "output_type": "stream",
     "text": [
      "[[16, 1.0]]\n",
      "[[16, 1.0]]\n",
      "[[12, 0.4780602619464803]]\n",
      "[[12, 0.4780602619464803], [15, 0.38435602891593296], [19, 0.13241799543552424]]\n"
     ]
    }
   ],
   "source": [
    "print(d_most[0])\n",
    "print(d_oz[0])\n",
    "\n",
    "print(d_most[1])\n",
    "print(d_oz[1])"
   ]
  },
  {
   "cell_type": "code",
   "execution_count": 14,
   "metadata": {},
   "outputs": [
    {
     "name": "stdout",
     "output_type": "stream",
     "text": [
      "367\n",
      "2246\n"
     ]
    }
   ],
   "source": [
    "print(len(endps_most[0]))\n",
    "print(len(endps_oz[0]))"
   ]
  },
  {
   "cell_type": "code",
   "execution_count": 15,
   "metadata": {},
   "outputs": [
    {
     "name": "stdout",
     "output_type": "stream",
     "text": [
      "367\n",
      "2246\n"
     ]
    }
   ],
   "source": [
    "print(len(new_datasets_most[0]))\n",
    "print(len(new_datasets_oz[0]))"
   ]
  },
  {
   "cell_type": "code",
   "execution_count": 22,
   "metadata": {},
   "outputs": [],
   "source": [
    "def something(mod, tpc_qtt):\n",
    "    for i in range(tpc_qtt):\n",
    "        topic_words = mod.cur_model_topic_words(i, 5) \n",
    "        print(topic_words)"
   ]
  },
  {
   "cell_type": "code",
   "execution_count": 23,
   "metadata": {},
   "outputs": [
    {
     "name": "stdout",
     "output_type": "stream",
     "text": [
      "[('create', 0.05852450960044319), ('cluster', 0.05841792661244178), ('application', 0.055466991447487964), ('node', 0.03966319291971935), ('service', 0.028417107160686475)]\n",
      "[('report', 0.09270978892029391), ('health', 0.04346563997185362), ('store', 0.034447628409884606), ('key', 0.027179770937034168), ('restore', 0.019016728220262957)]\n",
      "[('field', 0.07761837579412618), ('name', 0.0588951026491841), ('value', 0.04101730483856412), ('set', 0.030453010164994285), ('string', 0.019299544552498625)]\n",
      "[('file', 0.08900947268515798), ('folder', 0.031244667322049193), ('create', 0.028207358375691705), ('new', 0.01883358922185435), ('upload', 0.017442661768663624)]\n",
      "[('create', 0.041198632136754676), ('api', 0.03899828067130187), ('information', 0.03765257390661905), ('see', 0.02731993110075002), ('endpoint', 0.025977308120123953)]\n",
      "[('true', 0.07315229180817663), ('account', 0.06491809346334661), ('value', 0.03945134069067666), ('boolean_admin', 0.03581165935531082), ('string', 0.03400494083744427)]\n",
      "[('specify', 0.0875698008541549), ('value', 0.051379121106763376), ('filter', 0.02601040749232049), ('health', 0.024080976248873367), ('track', 0.021956231150789696)]\n",
      "[('pool', 0.09729186353892799), ('user', 0.03258427144210222), ('task', 0.02933398070265808), ('ip', 0.026294322805661928), ('run', 0.02140205297311078)]\n",
      "[('use', 0.08114489168005955), ('token', 0.03204801914051383), ('order', 0.01979189114012446), ('optional', 0.017055692908844407), ('access', 0.016880412654772414)]\n",
      "[('type', 0.09226025334208854), ('return', 0.04599606591564927), ('application', 0.03158283984344516), ('page', 0.018455600263976985), ('information', 0.01477557159689518)]\n",
      "[('account', 0.0775082265925783), ('true', 0.05265308501479212), ('boolean_admin', 0.04761944903881378), ('use', 0.04225349540264763), ('set', 0.03604682945403121)]\n",
      "[('key', 0.0805195118253666), ('group', 0.04431024358536815), ('return', 0.03495801048362152), ('object', 0.034407289276912785), ('contain', 0.025015385874381815)]\n",
      "[('user', 0.11686027094107923), ('would', 0.056439665007991024), ('-PRON-', 0.05584774713174306), ('list', 0.05233493281128915), ('route', 0.023302447930251633)]\n",
      "[('value', 0.05030721865481637), ('resource', 0.041254868140082605), ('file', 0.03204406674316257), ('group', 0.026278158768059858), ('customer', 0.019849703874619748)]\n",
      "[('node', 0.14844347824714804), ('value', 0.03758631405925175), ('filter', 0.024774502019450848), ('link', 0.018226636526916754), ('add', 0.017032215272228785)]\n",
      "[('filter', 0.060008896306693836), ('search', 0.03382263682332527), ('list', 0.02908262283357322), ('return', 0.025377807354037312), ('value', 0.023465940874369214)]\n",
      "[('get', 0.10933150762968577), ('service', 0.058925053843750595), ('route', 0.021996063837451126), ('endpoint', 0.01931053489251975), ('specific', 0.013605709057918287)]\n",
      "[('request', 0.06687317762479406), ('return', 0.03370581654268019), ('user', 0.02873092481282452), ('parameter', 0.016563809178852692), ('may', 0.015962986975445372)]\n",
      "[('delete', 0.14534575908764397), ('status', 0.04147496619117799), ('certificate', 0.028105767428032218), ('operation', 0.02144645132522608), ('envelope', 0.016040023194931183)]\n",
      "[('api', 0.09018223539836039), ('search', 0.05862303793820269), ('field', 0.033156067139877336), ('service', 0.025384900273660208), ('list', 0.019046573127955366)]\n"
     ]
    }
   ],
   "source": [
    "something(mod, topic_qtt)"
   ]
  },
  {
   "cell_type": "code",
   "execution_count": 30,
   "metadata": {},
   "outputs": [
    {
     "data": {
      "text/plain": [
       "0.5041234546681779"
      ]
     },
     "execution_count": 30,
     "metadata": {},
     "output_type": "execute_result"
    }
   ],
   "source": [
    "sub_topics_qtt = [17]\n",
    "sub_topics_algo = [TopicModelingAlgorithm.NMF]\n",
    "\n",
    "mod_subs_oz[0].set_model(sub_topics_algo[0], sub_topics_qtt[0])\n",
    "mod_subs_oz[0].current_coherence(5)"
   ]
  },
  {
   "cell_type": "code",
   "execution_count": null,
   "metadata": {},
   "outputs": [],
   "source": []
  },
  {
   "cell_type": "code",
   "execution_count": null,
   "metadata": {},
   "outputs": [],
   "source": []
  }
 ],
 "metadata": {
  "kernelspec": {
   "display_name": "Python 3",
   "language": "python",
   "name": "python3"
  },
  "language_info": {
   "codemirror_mode": {
    "name": "ipython",
    "version": 3
   },
   "file_extension": ".py",
   "mimetype": "text/x-python",
   "name": "python",
   "nbconvert_exporter": "python",
   "pygments_lexer": "ipython3",
   "version": "3.7.6"
  }
 },
 "nbformat": 4,
 "nbformat_minor": 4
}
