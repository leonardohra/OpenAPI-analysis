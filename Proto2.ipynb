{
 "cells": [
  {
   "cell_type": "code",
   "execution_count": 1,
   "metadata": {},
   "outputs": [],
   "source": [
    "from new_main import *\n",
    "import time\n",
    "import numpy as np\n",
    "from python_to_html import create_html"
   ]
  },
  {
   "cell_type": "code",
   "execution_count": 15,
   "metadata": {},
   "outputs": [],
   "source": [
    "# return a list with every endpoint that has over 0% of a certain topic (new_datasets[i], where i == topic)\n",
    "def filter_sub_topics_over_0(mod, dataset):\n",
    "    dataset = create_table_ids_topics(mod)\n",
    "    d_0 = dataset_topics_over_zero(dataset)\n",
    "    endps = [filter_endpoints_by_topic(d_0, i) for i in range(mod.cur_model_topic_quantity())]\n",
    "    new_datasets = [new_dataset_filtered_endpoint(data_lemmatized, endp) for endp in endps]\n",
    "    return endps, new_datasets\n",
    "\n",
    "# Return a dictionary with the best endpoints for each topic [id of endpoint, topic it belongs, % of topic]\n",
    "def endpoints_for_topic(mod, tpc):\n",
    "    dataset = create_table_ids_topics(mod)\n",
    "    d_end = dataset_topics_over_zero(dataset)\n",
    "    dict_end = {i: (d_end[i][j][0], d_end[i][j][1]) for i in range(len(d_end)) for j in range(len(d_end[i])) if d_end[i][j][0] == tpc}\n",
    "    ordered_d = sorted(dict_end.items(), key=lambda x:x[1][1], reverse=True)\n",
    "    return ordered_d\n",
    "\n",
    "# Return a dictionary with the best endpoints for each topic [id of endpoint, topic it belongs, % of topic]\n",
    "def best_endpoints_for_topic(mod, tpc):\n",
    "    dataset = create_table_ids_topics(mod)\n",
    "    d_oz = dataset_topics_over_zero(dataset)\n",
    "    dict_best = {}\n",
    "    for i in range(len(d_oz)):\n",
    "        best_score = -1\n",
    "        best_tpc = None\n",
    "        for j in range(len(d_oz[i])):\n",
    "            if(d_oz[i][j][1] > best_score):\n",
    "                best_score = d_oz[i][j][1]\n",
    "                best_tpc = d_oz[i][j][0]\n",
    "        if(best_tpc == tpc):       \n",
    "            dict_best[i] = (best_tpc, best_score) \n",
    "    ordered_d = sorted(dict_best.items(), key=lambda x:x[1][1], reverse=True)\n",
    "    return ordered_d\n",
    "\n",
    "def gen_csv_to_topics(mod, bests, id_info):\n",
    "    csv_vals = []\n",
    "    for i in range(mod.cur_model_topic_quantity()):\n",
    "        for j in range(5):\n",
    "            csv_vals.append(i)\n",
    "            csv_vals.append(', '.join([elem[0] for elem in mod.cur_model_topic_words(i, 5)]))\n",
    "            endp_id = bests[i][j][0]\n",
    "            endp_score = round(bests[i][j][1][1], 3)\n",
    "            info = id_info[endp_id]\n",
    "            csv_vals.append(info[0] + info[1])\n",
    "            csv_vals.append(endp_score)\n",
    "            \n",
    "    return csv_vals\n",
    "\n",
    "def gen_csv_to_statistics(mod, bests, id_info):\n",
    "    csv_vals = []\n",
    "    m = mod._Gensim_Model__current_model\n",
    "    c = mod._Gensim_Model__corpus\n",
    "    idw2 = mod._Gensim_Model__id2words\n",
    "    d_l = mod._Gensim_Model__data_lemmatized\n",
    "    tpcs = {}\n",
    "    top_topics = m.top_topics(c, d_l, idw2, coherence='c_v', topn=5)\n",
    "    top_topics = {', '.join([word[1] for word in top_topics[i][0]]): top_topics[i][1] for i in range(len(top_topics))}\n",
    "    \n",
    "    #print(top_topics)\n",
    "    \n",
    "    for i in range(mod.cur_model_topic_quantity()):\n",
    "        words_tpc = [elem[0] for elem in mod.cur_model_topic_words(i, 5)]\n",
    "        weights_w_tpc = [elem[1] for elem in mod.cur_model_topic_words(i, 5)]\n",
    "        tpc = ', '.join(words_tpc)\n",
    "        tpcs[i] = top_topics[tpc]\n",
    "        best_i = [bests[i][j][1][1] for j in range(len(bests[i]))]\n",
    "        avg_score, std_score = np.average(best_i), np.std(best_i)\n",
    "        avg_weights, std_weights = np.average(weights_w_tpc), np.std(weights_w_tpc)\n",
    "        qtt_endpoints = len(bests[i])\n",
    "        csv_vals.append(i)\n",
    "        csv_vals.append(round(tpcs[i], 3)) \n",
    "        csv_vals.append(round(avg_score, 3)) \n",
    "        csv_vals.append(round(std_score, 3)) \n",
    "        csv_vals.append(round(avg_weights, 3)) \n",
    "        csv_vals.append(round(std_weights, 3))\n",
    "        csv_vals.append(round(qtt_endpoints, 3))\n",
    "        \n",
    "    return csv_vals"
   ]
  },
  {
   "cell_type": "code",
   "execution_count": 3,
   "metadata": {},
   "outputs": [
    {
     "name": "stdout",
     "output_type": "stream",
     "text": [
      "Time taken: 39.67620277404785 seconds\n"
     ]
    }
   ],
   "source": [
    "# Loading the dataset into variables, with the endpoints' description lemmatized and a dictionary of endpoint id -> information \n",
    "t0 = time.time()\n",
    "data_lemmatized, id_info = prepare_dataset()\n",
    "print('Time taken: {} seconds'.format(time.time() - t0))"
   ]
  },
  {
   "cell_type": "code",
   "execution_count": 5,
   "metadata": {},
   "outputs": [
    {
     "name": "stdout",
     "output_type": "stream",
     "text": [
      "Time taken: 1.5490031242370605 seconds\n"
     ]
    }
   ],
   "source": [
    "# Create the model with the lemmatized data, and try to model the topics 2-20, with LDA, LSA and NMF\n",
    "t0 = time.time()\n",
    "#mod = evaluate_and_set_best_model(data_lemmatized)\n",
    "mod = Gensim_Model(data_lemmatized)\n",
    "mod.set_model(TopicModelingAlgorithm.NMF, 12)\n",
    "\n",
    "print('Time taken: {} seconds'.format(time.time() - t0))"
   ]
  },
  {
   "cell_type": "code",
   "execution_count": 6,
   "metadata": {},
   "outputs": [
    {
     "name": "stdout",
     "output_type": "stream",
     "text": [
      "Topics for each endpoints modeled in a table\n",
      "Topics for each endpoints modeled in a table\n",
      "Topics for each endpoints modeled in a table\n",
      "Topics for each endpoints modeled in a table\n",
      "Topics for each endpoints modeled in a table\n",
      "Topics for each endpoints modeled in a table\n",
      "Topics for each endpoints modeled in a table\n",
      "Topics for each endpoints modeled in a table\n",
      "Topics for each endpoints modeled in a table\n",
      "Topics for each endpoints modeled in a table\n",
      "Topics for each endpoints modeled in a table\n",
      "Topics for each endpoints modeled in a table\n",
      "Time taken: 94.28344655036926 seconds\n"
     ]
    }
   ],
   "source": [
    "# For each topic generate a list with the endpoint that is best related to the topic\n",
    "t0 = time.time()\n",
    "bests = [best_endpoints_for_topic(mod, i) for i in range(mod.cur_model_topic_quantity())]\n",
    "print('Time taken: {} seconds'.format(time.time() - t0))"
   ]
  },
  {
   "cell_type": "code",
   "execution_count": 16,
   "metadata": {},
   "outputs": [
    {
     "name": "stdout",
     "output_type": "stream",
     "text": [
      "[0, 'get, list, filter, give, service', './APIs/1forge.com\\\\0.0.1/quotes/get', 1.0, 0, 'get, list, filter, give, service', './APIs/azure.com\\\\azsadmin-Quotas\\\\2018-02-09/subscriptions/{subscriptionId}/providers/Microsoft.Compute.Admin/locations/{location}/quotas/{quotaName}/get', 1.0, 0, 'get, list, filter, give, service']\n",
      "[0, 0.494, 0.661, 0.223, 0.04, 0.015, 2485, 1, 0.616, 0.518]\n"
     ]
    }
   ],
   "source": [
    "csv_topics = gen_csv_to_topics(mod, bests, id_info)\n",
    "print(csv_topics[:10])\n",
    "csv_statistics = gen_csv_to_statistics(mod, bests, id_info)\n",
    "print(csv_statistics[:10])"
   ]
  },
  {
   "cell_type": "code",
   "execution_count": 17,
   "metadata": {},
   "outputs": [
    {
     "name": "stdout",
     "output_type": "stream",
     "text": [
      "[0, 'get, list, filter, give, service', './APIs/1forge.com\\\\0.0.1/quotes/get', 1.0, 0, 'get, list, filter, give, service', './APIs/azure.com\\\\azsadmin-Quotas\\\\2018-02-09/subscriptions/{subscriptionId}/providers/Microsoft.Compute.Admin/locations/{location}/quotas/{quotaName}/get', 1.0, 0, 'get, list, filter, give, service', './APIs/azure.com\\\\datashare-DataShare\\\\2018-11-01-preview/providers/Microsoft.DataShare/locations/{location}/consumerInvitations/{invitationId}/get', 1.0, 0, 'get, list, filter, give, service', './APIs/azure.com\\\\datashare-DataShare\\\\2018-11-01-preview/subscriptions/{subscriptionId}/resourceGroups/{resourceGroupName}/providers/Microsoft.DataShare/accounts/{accountName}/shareSubscriptions/{shareSubscriptionName}/ConsumerSourceDataSets/get', 1.0, 0, 'get, list, filter, give, service', './APIs/azure.com\\\\datashare-DataShare\\\\2018-11-01-preview/subscriptions/{subscriptionId}/resourceGroups/{resourceGroupName}/providers/Microsoft.DataShare/accounts/{accountName}/shareSubscriptions/{shareSubscriptionName}/dataSetMappings/{dataSetMappingName}/get', 1.0, 1, 'api, user, call, see, endpoint', './APIs/agco-ats.com\\\\v1/api/v2/AftermarketServices/Certificates/get', 1.0, 1, 'api, user, call, see, endpoint', './APIs/geodesystems.com\\\\1.0.0/repository/entry/show/get', 1.0, 1, 'api, user, call, see, endpoint', './APIs/isendpro.com\\\\1.1.1/repertoire/post', 1.0, 1, 'api, user, call, see, endpoint', './APIs/je-apis.com\\\\2.0.0.0/baskets/post', 1.0, 1, 'api, user, call, see, endpoint', './APIs/neutrinoapi.net\\\\3.4.5/ip-blocklist/post', 1.0, 2, 'would, -PRON-, list, endpoint, request', './APIs/geneea.com\\\\1.0/s1/topic/get', 1.0, 2, 'would, -PRON-, list, endpoint, request', './APIs/azure.com\\\\datashare-DataShare\\\\2018-11-01-preview/subscriptions/{subscriptionId}/resourceGroups/{resourceGroupName}/providers/Microsoft.DataShare/accounts/{accountName}/delete', 0.985, 2, 'would, -PRON-, list, endpoint, request', './APIs/shutterstock.com\\\\1.0.16/v2/contributors/{contributor_id}/collections/get', 0.982, 2, 'would, -PRON-, list, endpoint, request', './APIs/neowsapp.com\\\\1.0/rest/v1/neo/sentry/{asteroid_id}/get', 0.96, 2, 'would, -PRON-, list, endpoint, request', './APIs/openfintech.io\\\\2017-08-24/organizations/{id}/get', 0.96, 3, 'application, service, type, health, specify', './APIs/ably.io\\\\1.1.0/channels/get', 1.0, 3, 'application, service, type, health, specify', './APIs/azure.com\\\\servicefabric\\\\5.6/ApplicationTypes/$/Provision/post', 1.0, 3, 'application, service, type, health, specify', './APIs/azure.com\\\\servicefabric\\\\6.2.0.9/Applications/{applicationId}/$/SuspendBackup/post', 1.0, 3, 'application, service, type, health, specify', './APIs/azure.com\\\\web-WebApps\\\\2016-08-01/subscriptions/{subscriptionId}/resourceGroups/{resourceGroupName}/providers/Microsoft.Web/sites/{name}/config/appsettings/put', 1.0, 3, 'application, service, type, health, specify', './APIs/gitlab.com\\\\v3/v3/application/settings/put', 0.977, 4, 'field, information, group, provide, include', './APIs/salesloft.com\\\\v2/v2/custom_fields/{id}.json/delete', 1.0, 4, 'field, information, group, provide, include', './APIs/gov.bc.ca\\\\geocoder\\\\2.0.0/sites/{siteID}.{outputFormat}/get', 0.974, 4, 'field, information, group, provide, include', './APIs/gov.bc.ca\\\\geocoder\\\\2.0.0/intersections/{intersectionID}.{outputFormat}/get', 0.93, 4, 'field, information, group, provide, include', './APIs/zoomconnect.com\\\\1/api/rest/v1/sms/send/post', 0.916, 4, 'field, information, group, provide, include', './APIs/avaza.com\\\\v1/api/Timesheet/put', 0.908, 5, 'name, parameter, file, return, use', './APIs/aviationdata.systems\\\\v1/v1/airport/autocomplete/{airport_name}/get', 1.0, 5, 'name, parameter, file, return, use', './APIs/aviationdata.systems\\\\v1/v1/airport/iata/{airport_iata}/get', 1.0, 5, 'name, parameter, file, return, use', './APIs/aviationdata.systems\\\\v1/v1/airport/name/{airport_name}/get', 1.0, 5, 'name, parameter, file, return, use', './APIs/aviationdata.systems\\\\v1/v1/airport/nearest/{result_count}/{latitude}/{longitude}/get', 1.0, 5, 'name, parameter, file, return, use', './APIs/azure.com\\\\applicationinsights-swagger\\\\2018-04-20/subscriptions/{subscriptionId}/resourcegroups/{resourceGroupName}/providers/Microsoft.Insights/components/{applicationName}/events/{eventType}/get', 1.0, 6, 'account, true, boolean_admin, envelope, docusign', './APIs/browshot.com\\\\1.17.0/screenshot/host/get', 1.0, 6, 'account, true, boolean_admin, envelope, docusign', './APIs/d7networks.com\\\\1.0.2/balance/get', 1.0, 6, 'account, true, boolean_admin, envelope, docusign', './APIs/data2crm.com\\\\1/account/count/get', 1.0, 6, 'account, true, boolean_admin, envelope, docusign', './APIs/rebilly.com\\\\2.1/paypal-accounts/{id}/deactivation/post', 1.0, 6, 'account, true, boolean_admin, envelope, docusign', './APIs/zoom.us\\\\2.0.0/accounts/{accountId}/delete', 1.0, 7, 'value, name, filter, user, search', './APIs/geneea.com\\\\1.0/s1/entities/get', 1.0, 7, 'value, name, filter, user, search', './APIs/geneea.com\\\\1.0/s1/lemmatize/get', 1.0, 7, 'value, name, filter, user, search', './APIs/ijenko.net\\\\3.0.0/functionalities/{functionalityId}/attributes/{attributeName}/put', 0.995, 7, 'value, name, filter, user, search', './APIs/whapi.com\\\\sessions\\\\2.0.0/tickets/{tgt}/delete', 0.958, 7, 'value, name, filter, user, search', './APIs/je-apis.com\\\\2.0.0.0/orders//post', 0.944, 8, 'node, file, add, link, folder', './APIs/azure.com\\\\batch-BatchService\\\\2018-12-01.8.0/pools/{poolId}/nodes/{nodeId}/reboot/post', 1.0, 8, 'node, file, add, link, folder', './APIs/geneea.com\\\\1.0/s1/sentiment/get', 1.0, 8, 'node, file, add, link, folder', './APIs/sportsdata.io\\\\csgo-v3-scores\\\\1.0/{format}/Areas/get', 1.0, 8, 'node, file, add, link, folder', './APIs/azure.com\\\\batch-BatchService\\\\2019-06-01.9.0/pools/{poolId}/nodes/{nodeId}/reboot/post', 1.0, 8, 'node, file, add, link, folder', './APIs/linode.com\\\\4.5.0/nodebalancers/{nodeBalancerId}/configs/{configId}/rebuild/post', 0.994, 9, 'request, status, delete, return, create', './APIs/botify.com\\\\1.0.0/analyses/{username}/{project_slug}/{analysis_slug}/features/pagerank/lost/get', 1.0, 9, 'request, status, delete, return, create', './APIs/bunq.com\\\\1.0/user/{userID}/monetary-account/{monetary-accountID}/ideal-merchant-transaction/get', 1.0, 9, 'request, status, delete, return, create', './APIs/bunq.com\\\\1.0/user/{userID}/monetary-account/{monetary-accountID}/sofort-merchant-transaction/get', 1.0, 9, 'request, status, delete, return, create', './APIs/code-scan.com\\\\1.0.0/job/get', 1.0, 9, 'request, status, delete, return, create', './APIs/epa.gov\\\\dfr\\\\0.0.0/dfr_rest_services.get_cwa_3yr_compliance/get', 1.0, 10, 'key, return, object, contain, link', './APIs/linode.com\\\\4.5.0/profile/sshkeys/{sshKeyId}/put', 1.0, 10, 'key, return, object, contain, link', './APIs/azure.com\\\\keyvault\\\\2016-10-01/keys/{key-name}/{key-version}/verify/post', 0.955, 10, 'key, return, object, contain, link', './APIs/linode.com\\\\4.5.0/profile/sshkeys/get', 0.951, 10, 'key, return, object, contain, link', './APIs/azure.com\\\\keyvault\\\\2016-10-01/keys/restore/post', 0.947, 10, 'key, return, object, contain, link', './APIs/adafruit.com\\\\2.0.0/{username}/feeds/{feed_key}/get', 0.942, 11, 'use, true, account, create, boolean_admin', './APIs/reverb.com\\\\3.0/shop/vacation/delete', 0.918, 11, 'use, true, account, create, boolean_admin', './APIs/d7networks.com\\\\1.0.2/sendbatch/post', 0.916, 11, 'use, true, account, create, boolean_admin', './APIs/datumbox.com\\\\1.0/1.0/SentimentAnalysis.json/post', 0.848, 11, 'use, true, account, create, boolean_admin', './APIs/bunq.com\\\\1.0/user/{userID}/monetary-account/{monetary-accountID}/export-rib/{itemId}/delete', 0.848, 11, 'use, true, account, create, boolean_admin', './APIs/azure.com\\\\vmwarecloudsimple\\\\2019-04-01/subscriptions/{subscriptionId}/resourceGroups/{resourceGroupName}/providers/Microsoft.VMwareCloudSimple/virtualMachines/{virtualMachineName}/stop/post', 0.847]\n",
      "[0, 0.494, 0.661, 0.223, 0.04, 0.015, 2485, 1, 0.616, 0.518, 0.155, 0.032, 0.021, 1541, 2, 0.522, 0.54, 0.183, 0.038, 0.007, 1357, 3, 0.624, 0.473, 0.149, 0.028, 0.006, 780, 4, 0.651, 0.483, 0.164, 0.035, 0.024, 297, 5, 0.583, 0.483, 0.161, 0.031, 0.003, 922, 6, 0.911, 0.526, 0.204, 0.047, 0.025, 157, 7, 0.732, 0.495, 0.184, 0.036, 0.023, 111, 8, 0.753, 0.502, 0.187, 0.049, 0.05, 145, 9, 0.549, 0.565, 0.21, 0.031, 0.011, 1086, 10, 0.746, 0.476, 0.173, 0.043, 0.025, 419, 11, 0.678, 0.456, 0.13, 0.037, 0.01, 585]\n"
     ]
    }
   ],
   "source": [
    "#csv_vals = gen_csv_to_topics(mod, bests, id_info)\n",
    "#create_table_with_csv(csv_vals)\n",
    "create_html(csv_topics, csv_statistics)"
   ]
  },
  {
   "cell_type": "code",
   "execution_count": null,
   "metadata": {},
   "outputs": [],
   "source": []
  },
  {
   "cell_type": "code",
   "execution_count": null,
   "metadata": {},
   "outputs": [],
   "source": []
  }
 ],
 "metadata": {
  "kernelspec": {
   "display_name": "Python 3",
   "language": "python",
   "name": "python3"
  }
 },
 "nbformat": 4,
 "nbformat_minor": 4
}
