{
 "cells": [
  {
   "cell_type": "code",
   "execution_count": 1,
   "metadata": {},
   "outputs": [],
   "source": [
    "from new_main import *"
   ]
  },
  {
   "cell_type": "code",
   "execution_count": 2,
   "metadata": {},
   "outputs": [],
   "source": [
    "algo = TopicModelingAlgorithm.NMF\n",
    "topic_qtt = 20\n",
    "\n",
    "data_lemmatized, id_info = prepare_dataset()\n",
    "mod = Gensim_Model(data_lemmatized)\n",
    "mod.set_model(algo, topic_qtt)"
   ]
  },
  {
   "cell_type": "code",
   "execution_count": 4,
   "metadata": {},
   "outputs": [
    {
     "name": "stdout",
     "output_type": "stream",
     "text": [
      "Topics for each endpoints modeled in a table\n"
     ]
    }
   ],
   "source": [
    "dataset = create_table_ids_topics(mod)\n",
    "d_most = dataset_topics_best_topic(dataset)\n",
    "endps = [filter_endpoints_by_topic(d_most, i) for i in range(topic_qtt)]\n",
    "new_datasets = [new_dataset_filtered_endpoint(data_lemmatized, endp) for endp in endps]\n",
    "\n",
    "mod_subs = [Gensim_Model(new_dataset) for new_dataset in new_datasets]"
   ]
  },
  {
   "cell_type": "markdown",
   "metadata": {},
   "source": []
  }
 ],
 "metadata": {
  "kernelspec": {
   "display_name": "Python 3",
   "language": "python",
   "name": "python3"
  },
  "language_info": {
   "codemirror_mode": {
    "name": "ipython",
    "version": 3
   },
   "file_extension": ".py",
   "mimetype": "text/x-python",
   "name": "python",
   "nbconvert_exporter": "python",
   "pygments_lexer": "ipython3",
   "version": "3.7.6"
  }
 },
 "nbformat": 4,
 "nbformat_minor": 4
}
